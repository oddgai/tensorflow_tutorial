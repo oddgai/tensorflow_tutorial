{
  "nbformat": 4,
  "nbformat_minor": 0,
  "metadata": {
    "colab": {
      "name": "mnist.ipynb",
      "provenance": [],
      "authorship_tag": "ABX9TyPAqQzsB9HZG23iXmB/yFFb",
      "include_colab_link": true
    },
    "kernelspec": {
      "name": "python3",
      "display_name": "Python 3"
    },
    "language_info": {
      "name": "python"
    }
  },
  "cells": [
    {
      "cell_type": "markdown",
      "metadata": {
        "id": "view-in-github",
        "colab_type": "text"
      },
      "source": [
        "<a href=\"https://colab.research.google.com/github/oddgai/tensorflow_tutorial/blob/main/mnist.ipynb\" target=\"_parent\"><img src=\"https://colab.research.google.com/assets/colab-badge.svg\" alt=\"Open In Colab\"/></a>"
      ]
    },
    {
      "cell_type": "markdown",
      "metadata": {
        "id": "BiZZaQbNEdCU"
      },
      "source": [
        "# TensorFlow 2.0 クイックスタート\n",
        "https://www.tensorflow.org/tutorials/quickstart/beginner?hl=ja"
      ]
    },
    {
      "cell_type": "code",
      "metadata": {
        "id": "LagHnunU-v2Y"
      },
      "source": [
        "import tensorflow as tf\n",
        "from tensorflow.keras import Sequential\n",
        "from tensorflow.keras.layers import Dense, Dropout, Flatten"
      ],
      "execution_count": 22,
      "outputs": []
    },
    {
      "cell_type": "code",
      "metadata": {
        "colab": {
          "base_uri": "https://localhost:8080/",
          "height": 35
        },
        "id": "-L2cfiwS_Z3f",
        "outputId": "150d532a-2f4f-4f66-fa12-095ccc41f9e5"
      },
      "source": [
        "tf.__version__"
      ],
      "execution_count": 3,
      "outputs": [
        {
          "output_type": "execute_result",
          "data": {
            "application/vnd.google.colaboratory.intrinsic+json": {
              "type": "string"
            },
            "text/plain": [
              "'2.5.0'"
            ]
          },
          "metadata": {
            "tags": []
          },
          "execution_count": 3
        }
      ]
    },
    {
      "cell_type": "code",
      "metadata": {
        "id": "p4NRFrQe_bvi"
      },
      "source": [
        "# MNISTデータセットのロード\n",
        "mnist = tf.keras.datasets.mnist\n",
        "(x_train, y_train), (x_test, y_test) = mnist.load_data()\n",
        "\n",
        "# 整数から小数に変換\n",
        "x_train, x_test = x_train / 255.0, x_test / 255.0"
      ],
      "execution_count": 11,
      "outputs": []
    },
    {
      "cell_type": "code",
      "metadata": {
        "id": "5QkKuDoGEuoF"
      },
      "source": [
        "# モデル構築\n",
        "model = Sequential([\n",
        "  Flatten(input_shape=(28, 28)),  # 入力層, 28x28の画像をflattenする\n",
        "  Dense(128, activation=\"relu\"),  # 128次元ニューロン層\n",
        "  Dropout(0.2),  # 2割のニューロンをランダムに削除\n",
        "  Dense(10, activation=\"softmax\")  # 0-9を判別, 値を確率化\n",
        "], name=\"mnist_model\")"
      ],
      "execution_count": 48,
      "outputs": []
    },
    {
      "cell_type": "code",
      "metadata": {
        "colab": {
          "base_uri": "https://localhost:8080/"
        },
        "id": "a5LBPZkMJnVO",
        "outputId": "0722ae79-6e7d-4ed9-f976-ceb6141fb600"
      },
      "source": [
        "model.summary()"
      ],
      "execution_count": 49,
      "outputs": [
        {
          "output_type": "stream",
          "text": [
            "Model: \"mnist_model\"\n",
            "_________________________________________________________________\n",
            "Layer (type)                 Output Shape              Param #   \n",
            "=================================================================\n",
            "flatten_6 (Flatten)          (None, 784)               0         \n",
            "_________________________________________________________________\n",
            "dense_10 (Dense)             (None, 128)               100480    \n",
            "_________________________________________________________________\n",
            "dropout_5 (Dropout)          (None, 128)               0         \n",
            "_________________________________________________________________\n",
            "dense_11 (Dense)             (None, 10)                1290      \n",
            "=================================================================\n",
            "Total params: 101,770\n",
            "Trainable params: 101,770\n",
            "Non-trainable params: 0\n",
            "_________________________________________________________________\n"
          ],
          "name": "stdout"
        }
      ]
    },
    {
      "cell_type": "code",
      "metadata": {
        "id": "0nz1snRrE3NT"
      },
      "source": [
        "# トレーニング設定\n",
        "model.compile(optimizer=\"adam\",  # 最適化アルゴリズム\n",
        "              loss=\"sparse_categorical_crossentropy\",  # 損失関数\n",
        "              metrics=[\"accuracy\"]  # 表示する項目\n",
        ")"
      ],
      "execution_count": 50,
      "outputs": []
    },
    {
      "cell_type": "code",
      "metadata": {
        "colab": {
          "base_uri": "https://localhost:8080/"
        },
        "id": "DFUVoYyzIgGq",
        "outputId": "a7253674-6f6f-4d1d-85df-5c7bf17b8385"
      },
      "source": [
        "history = model.fit(\n",
        "    x_train, \n",
        "    y_train, \n",
        "    batch_size=128, # 1回の学習で読み込む画像数\n",
        "    epochs=10,  # 全件学習を何回回すか\n",
        "    validation_split=0.2  # データの後ろ2割を検証データにする\n",
        ")"
      ],
      "execution_count": 51,
      "outputs": [
        {
          "output_type": "stream",
          "text": [
            "Epoch 1/10\n",
            "375/375 [==============================] - 2s 4ms/step - loss: 0.4444 - accuracy: 0.8731 - val_loss: 0.2079 - val_accuracy: 0.9442\n",
            "Epoch 2/10\n",
            "375/375 [==============================] - 1s 3ms/step - loss: 0.2109 - accuracy: 0.9394 - val_loss: 0.1591 - val_accuracy: 0.9552\n",
            "Epoch 3/10\n",
            "375/375 [==============================] - 1s 3ms/step - loss: 0.1611 - accuracy: 0.9540 - val_loss: 0.1295 - val_accuracy: 0.9626\n",
            "Epoch 4/10\n",
            "375/375 [==============================] - 1s 3ms/step - loss: 0.1341 - accuracy: 0.9609 - val_loss: 0.1120 - val_accuracy: 0.9669\n",
            "Epoch 5/10\n",
            "375/375 [==============================] - 1s 3ms/step - loss: 0.1136 - accuracy: 0.9669 - val_loss: 0.1032 - val_accuracy: 0.9698\n",
            "Epoch 6/10\n",
            "375/375 [==============================] - 1s 3ms/step - loss: 0.0985 - accuracy: 0.9712 - val_loss: 0.0950 - val_accuracy: 0.9727\n",
            "Epoch 7/10\n",
            "375/375 [==============================] - 1s 3ms/step - loss: 0.0863 - accuracy: 0.9737 - val_loss: 0.0910 - val_accuracy: 0.9727\n",
            "Epoch 8/10\n",
            "375/375 [==============================] - 1s 3ms/step - loss: 0.0782 - accuracy: 0.9762 - val_loss: 0.0882 - val_accuracy: 0.9737\n",
            "Epoch 9/10\n",
            "375/375 [==============================] - 1s 3ms/step - loss: 0.0689 - accuracy: 0.9787 - val_loss: 0.0873 - val_accuracy: 0.9742\n",
            "Epoch 10/10\n",
            "375/375 [==============================] - 1s 3ms/step - loss: 0.0636 - accuracy: 0.9806 - val_loss: 0.0807 - val_accuracy: 0.9752\n"
          ],
          "name": "stdout"
        }
      ]
    },
    {
      "cell_type": "code",
      "metadata": {
        "colab": {
          "base_uri": "https://localhost:8080/"
        },
        "id": "GcIcXxVZJMcY",
        "outputId": "92a0260b-013f-4c45-bf35-e978d8807f05"
      },
      "source": [
        "model.evaluate(x_test,  y_test)"
      ],
      "execution_count": 52,
      "outputs": [
        {
          "output_type": "stream",
          "text": [
            "313/313 [==============================] - 0s 1ms/step - loss: 0.0767 - accuracy: 0.9772\n"
          ],
          "name": "stdout"
        },
        {
          "output_type": "execute_result",
          "data": {
            "text/plain": [
              "[0.07671228796243668, 0.9771999716758728]"
            ]
          },
          "metadata": {
            "tags": []
          },
          "execution_count": 52
        }
      ]
    },
    {
      "cell_type": "code",
      "metadata": {
        "colab": {
          "base_uri": "https://localhost:8080/"
        },
        "id": "LXI9OLhQNrum",
        "outputId": "106e2ede-cded-48bc-d390-414fb6cbcefe"
      },
      "source": [
        "# 推論\n",
        "test_data = x_test[0]\n",
        "test_label = y_test[0]\n",
        "\n",
        "# バッチ処理を前提としているため、1枚でも(28,28) -> (1,28,28)にしないといけない\n",
        "predict = model.predict(test_data[None, ...])\n",
        "print(f\"正解: {test_label}\")\n",
        "print(f\"予測: {predict[0].argmax()}, 確度 {max(predict[0])}\")"
      ],
      "execution_count": 63,
      "outputs": [
        {
          "output_type": "stream",
          "text": [
            "正解: 7\n",
            "予測: 7, 確度 0.9997331500053406\n"
          ],
          "name": "stdout"
        }
      ]
    },
    {
      "cell_type": "code",
      "metadata": {
        "id": "33_S71MrSv0y"
      },
      "source": [
        "def sample_predict(test_img, test_label):\n",
        "    predict = model.predict(test_img[None, ...])\n",
        "    print(f\"{test_label} : {predict[0].argmax()}, 確度 {max(predict[0])}\")"
      ],
      "execution_count": 71,
      "outputs": []
    },
    {
      "cell_type": "code",
      "metadata": {
        "colab": {
          "base_uri": "https://localhost:8080/"
        },
        "id": "PWsZF8PFTxko",
        "outputId": "b7f027dd-8f3e-4733-8855-3019f8eee7de"
      },
      "source": [
        "import random\n",
        "\n",
        "for _ in range(10):\n",
        "    r = random.randint(0, len(x_test))\n",
        "    test_img = x_test[r]\n",
        "    test_label = y_test[r]\n",
        "    sample_predict(test_img, test_label)"
      ],
      "execution_count": 74,
      "outputs": [
        {
          "output_type": "stream",
          "text": [
            "1 : 1, 確度 0.9998078942298889\n",
            "7 : 7, 確度 0.9999316930770874\n",
            "2 : 2, 確度 0.999752938747406\n",
            "0 : 0, 確度 0.9999547004699707\n",
            "7 : 7, 確度 0.9995267391204834\n",
            "6 : 6, 確度 0.9999752044677734\n",
            "6 : 6, 確度 0.9999862909317017\n",
            "0 : 0, 確度 0.991617739200592\n",
            "1 : 1, 確度 0.999893307685852\n",
            "6 : 6, 確度 0.9999425411224365\n"
          ],
          "name": "stdout"
        }
      ]
    },
    {
      "cell_type": "markdown",
      "metadata": {
        "id": "kLz7dSwGSEHd"
      },
      "source": [
        "学び\n",
        "* モデル構築は`Dense`, `Dropout`とかを重ねればいける\n",
        "* トレーニング設定`model.compile()`のときにロス関数とかを問題に合わせて設定しないとよくわからない結果になる\n",
        "* 学習後の推論は1次元増やす必要がある"
      ]
    }
  ]
}